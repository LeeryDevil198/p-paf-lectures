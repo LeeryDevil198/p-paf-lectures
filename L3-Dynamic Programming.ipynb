{
 "cells": [
  {
   "cell_type": "markdown",
   "metadata": {},
   "source": [
    "Now that we're familiar with Recursion (L1) and Python (L2), we'll look at a very important problem solving technique, DP. Just like Recursion = {Fairy, Idea}, DP = {Recursion, Memory}.\n",
    "\n",
    "DP is NOT breaking problems into smaller subproblems and solving them. That's Recursion. DP is using extra memory to speed up recursion. This distinction clear, today we'll do loads of examples in DP.\n",
    "\n",
    "Pointers:\n",
    "- Spillover from L2 (E18)\n",
    "- Discussion of Python Docs\n",
    "- Homework 1 on Sat (Python)\n",
    "- Time Complexity (big Oh)\n",
    "- Substring, Subset and Subsequence\n",
    "- Overview of Competitive in Python\n",
    "- DP as a space to time tradeoff option\n",
    "\n",
    "E1. Fibonacci.\n",
    "\n",
    "E2. Binomial Coefficients.\n",
    "\n",
    "E3. S is a list of integers, find the longest increasing subsequence of S.\n",
    "\n",
    "E4. Given a set of integers S = {s1..sn}, find (if exists) a subset that adds exactly to T (given).\n",
    "\n",
    "E5. Take X,Y,Z as strings (where len(Z) = len(X) + len(Y)) and tell whether Z is a shuffle of X+Y.\n",
    "\n",
    "HOMEWORK:\n",
    "\n",
    "E6. Cut a rod (length n) into integer parts to maximize the total cost. Cost of parts is P = {P1..Pn}.\n",
    "\n",
    "E7. T = {T1..Tn} are nos on a circle (some may be negative). Find the maximum possible sum of any arc."
   ]
  },
  {
   "cell_type": "code",
   "execution_count": 72,
   "metadata": {},
   "outputs": [
    {
     "data": {
      "text/plain": [
       "43466557686937456435688527675040625802564660517371780402481729089536555417949051890403879840079255169295922593080322634775209689623239873322471161642996440906533187938298969649928516003704476137795166849228875"
      ]
     },
     "execution_count": 72,
     "metadata": {},
     "output_type": "execute_result"
    }
   ],
   "source": [
    "from functools import lru_cache\n",
    "\n",
    "@lru_cache(1000)\n",
    "def fib(n):\n",
    "    if n < 2:\n",
    "        return n\n",
    "    else:\n",
    "        return fib(n-1) + fib(n-2)\n",
    "    \n",
    "fib(1000)"
   ]
  },
  {
   "cell_type": "code",
   "execution_count": 67,
   "metadata": {},
   "outputs": [
    {
     "data": {
      "text/plain": [
       "13"
      ]
     },
     "execution_count": 67,
     "metadata": {},
     "output_type": "execute_result"
    }
   ],
   "source": []
  },
  {
   "cell_type": "code",
   "execution_count": 29,
   "metadata": {},
   "outputs": [],
   "source": [
    "# S1\n",
    "\n",
    "def fibonacci(n):\n",
    "    mem = []\n",
    "    mem.append(0)         # f(0) = 0\n",
    "    mem.append(1)         # f(1) = 1\n",
    "    for i in range(n):\n",
    "        mem.append(mem[-1] + mem[-2])\n",
    "    return mem[-1]"
   ]
  },
  {
   "cell_type": "code",
   "execution_count": 30,
   "metadata": {},
   "outputs": [
    {
     "name": "stdout",
     "output_type": "stream",
     "text": [
      "433494437\n"
     ]
    }
   ],
   "source": [
    "print(fibonacci(42))\n",
    "# notice the time speedup!"
   ]
  },
  {
   "cell_type": "code",
   "execution_count": 35,
   "metadata": {},
   "outputs": [],
   "source": [
    "# S2 (with Pizzeria proof) (and why they're called BCs)\n",
    "\n",
    "def bin_coff(n, r): \n",
    "    C = [[0 for _ in range(r+1)] for _ in range(n+1)] \n",
    "    for i in range(n+1): \n",
    "        for j in range(min(i, r) + 1): \n",
    "            if j == 0 or j == i:                         # base case \n",
    "                C[i][j] = 1\n",
    "            else:                                        # recursion\n",
    "                C[i][j] = C[i-1][j-1] + C[i-1][j] \n",
    "  \n",
    "    return C[n][r] "
   ]
  },
  {
   "cell_type": "code",
   "execution_count": 36,
   "metadata": {},
   "outputs": [
    {
     "name": "stdout",
     "output_type": "stream",
     "text": [
      "10\n"
     ]
    }
   ],
   "source": [
    "print(bin_coff(5,2))"
   ]
  },
  {
   "cell_type": "code",
   "execution_count": 51,
   "metadata": {},
   "outputs": [],
   "source": [
    "# S3\n",
    "\n",
    "def longest_increasing_subsequence(S):\n",
    "    L = [1 for _ in range(len(S))]               # length of LIS ending at index\n",
    "    P = [-1 for _ in range(len(S))]              # index of previous number in LIS\n",
    "    for i in range(1, len(S)):\n",
    "         for j in range(i):\n",
    "            if (S[i] > S[j]) and (L[j]+1 > L[i]):\n",
    "                L[i] = L[j]+1\n",
    "                P[i] = j\n",
    "                               \n",
    "    def reconstruct(S, L, P):\n",
    "        LIS = []\n",
    "        t = max(range(len(L)), key = lambda z: L[z])\n",
    "        while P[t] != -1:\n",
    "            LIS.append(S[t])\n",
    "            t = P[t]\n",
    "        else:\n",
    "            LIS.append(S[t])\n",
    "        return LIS[::-1]\n",
    "                               \n",
    "    return reconstruct(S,L,P)"
   ]
  },
  {
   "cell_type": "code",
   "execution_count": 52,
   "metadata": {},
   "outputs": [
    {
     "name": "stdout",
     "output_type": "stream",
     "text": [
      "[2, 4, 5, 7, 9]\n"
     ]
    }
   ],
   "source": [
    "print(longest_increasing_subsequence([2,4,3,5,1,7,6,9,8]))"
   ]
  },
  {
   "cell_type": "code",
   "execution_count": 53,
   "metadata": {},
   "outputs": [],
   "source": [
    "# S4 (Read up more about the Knapsack problem)\n",
    "\n",
    "def knapsack(S, T): \n",
    "    n = len(S)\n",
    "    pr = [ [False for i in range(T+1)] for j in range(n+1)]                     # partial results\n",
    "    for i in range(n+1): \n",
    "        pr[i][0] = True                                                                           # base case\n",
    "    for i in range(1,n+1): \n",
    "        for j in range(1,T+1):\n",
    "            pr[i][j] = pr[i-1][j] if j<S[i-1] else (pr[i-1][j] or pr[i-1][j-S[i-1]])          # recursive step\n",
    "    return pr[n][T] "
   ]
  },
  {
   "cell_type": "code",
   "execution_count": 57,
   "metadata": {},
   "outputs": [
    {
     "name": "stdout",
     "output_type": "stream",
     "text": [
      "False\n",
      "True\n"
     ]
    }
   ],
   "source": [
    "print(knapsack([1,2,5,9,10], 23))\n",
    "print(knapsack([1,2,5,9,10], 22))"
   ]
  },
  {
   "cell_type": "code",
   "execution_count": 60,
   "metadata": {},
   "outputs": [],
   "source": [
    "# S5\n",
    "\n",
    "def is_shuffle(X, Y, Z):\n",
    "    n = len(X)\n",
    "    m = len(Y)\n",
    "    assert(len(Z) == n+m)                                                     # precondition (more in L22)\n",
    "    ps = [[False for i in range(m+1)] for j in range(n+1)]    \n",
    "    for i in range(n+1):\n",
    "        for j in range(m+1):\n",
    "            if i == 0:                               \n",
    "                ps[i][j] = (Z[:j] == Y[:j])                                 # base cases\n",
    "            elif j==0:\n",
    "                ps[i][j] = (Z[:i] == X[:i])\n",
    "            else:\n",
    "                ps[i][j] = ((ps[i-1][j] and Z[i+j-1]==X[i-1])) or ((ps[i][j-1] and Z[i+j-1]==Y[j-1]))\n",
    "    return ps[n][m]"
   ]
  },
  {
   "cell_type": "code",
   "execution_count": 61,
   "metadata": {},
   "outputs": [
    {
     "name": "stdout",
     "output_type": "stream",
     "text": [
      "True\n",
      "False\n"
     ]
    }
   ],
   "source": [
    "print(is_shuffle('chocolate', 'chips', 'cchocohilaptes'))\n",
    "print(is_shuffle('chocolate', 'chips', 'chocochilatspe'))"
   ]
  },
  {
   "cell_type": "code",
   "execution_count": null,
   "metadata": {},
   "outputs": [],
   "source": [
    "# S6\n",
    "## HOMEWORK. Fill here and submit."
   ]
  },
  {
   "cell_type": "code",
   "execution_count": 62,
   "metadata": {},
   "outputs": [],
   "source": [
    "# S7\n",
    "## HOMEWORK. Fill here and submit."
   ]
  },
  {
   "cell_type": "markdown",
   "metadata": {},
   "source": [
    "This lecture might have been a teensy bit hard. If that's the case, practice more, it'll get much easier with time.\n",
    "\n",
    "On the other hand, if you're comfortable with this lecture, go on to read [this](http://web.mit.edu/15.053/www/AMP-Chapter-11.pdf)."
   ]
  },
  {
   "cell_type": "code",
   "execution_count": null,
   "metadata": {},
   "outputs": [],
   "source": []
  }
 ],
 "metadata": {
  "kernelspec": {
   "display_name": "Python 3",
   "language": "python",
   "name": "python3"
  },
  "language_info": {
   "codemirror_mode": {
    "name": "ipython",
    "version": 3
   },
   "file_extension": ".py",
   "mimetype": "text/x-python",
   "name": "python",
   "nbconvert_exporter": "python",
   "pygments_lexer": "ipython3",
   "version": "3.7.4"
  }
 },
 "nbformat": 4,
 "nbformat_minor": 2
}
