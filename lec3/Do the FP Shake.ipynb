{
 "cells": [
  {
   "cell_type": "markdown",
   "metadata": {
    "slideshow": {
     "slide_type": "slide"
    }
   },
   "source": [
    "# Do the FP Shake\n",
    "\n",
    "Thinking of recursive data structures"
   ]
  },
  {
   "cell_type": "markdown",
   "metadata": {
    "slideshow": {
     "slide_type": "slide"
    }
   },
   "source": [
    "## What is functional programming (fp)\n",
    "\n",
    "* Method of writing programs\n",
    "* Emphasizes immutability of data\n",
    "* Enforces the idea of function as data\n",
    "\n",
    "### What fp is not\n",
    "\n",
    "* fp is not a language"
   ]
  },
  {
   "cell_type": "markdown",
   "metadata": {
    "slideshow": {
     "slide_type": "fragment"
    }
   },
   "source": [
    "### What fp is\n",
    "* Immutability - values are not assigned and hence not changed\n",
    "* Functional purity - pure function should not have side effects, for a given set of inputs the output is always the same\n",
    "* Referential transparency - a function can be replaced with its contents wherever it is called"
   ]
  },
  {
   "cell_type": "code",
   "execution_count": 1,
   "metadata": {
    "slideshow": {
     "slide_type": "slide"
    }
   },
   "outputs": [
    {
     "data": {
      "text/html": [
       "<style>/* Styles used for the Hoogle display in the pager */\n",
       ".hoogle-doc {\n",
       "display: block;\n",
       "padding-bottom: 1.3em;\n",
       "padding-left: 0.4em;\n",
       "}\n",
       ".hoogle-code {\n",
       "display: block;\n",
       "font-family: monospace;\n",
       "white-space: pre;\n",
       "}\n",
       ".hoogle-text {\n",
       "display: block;\n",
       "}\n",
       ".hoogle-name {\n",
       "color: green;\n",
       "font-weight: bold;\n",
       "}\n",
       ".hoogle-head {\n",
       "font-weight: bold;\n",
       "}\n",
       ".hoogle-sub {\n",
       "display: block;\n",
       "margin-left: 0.4em;\n",
       "}\n",
       ".hoogle-package {\n",
       "font-weight: bold;\n",
       "font-style: italic;\n",
       "}\n",
       ".hoogle-module {\n",
       "font-weight: bold;\n",
       "}\n",
       ".hoogle-class {\n",
       "font-weight: bold;\n",
       "}\n",
       ".get-type {\n",
       "color: green;\n",
       "font-weight: bold;\n",
       "font-family: monospace;\n",
       "display: block;\n",
       "white-space: pre-wrap;\n",
       "}\n",
       ".show-type {\n",
       "color: green;\n",
       "font-weight: bold;\n",
       "font-family: monospace;\n",
       "margin-left: 1em;\n",
       "}\n",
       ".mono {\n",
       "font-family: monospace;\n",
       "display: block;\n",
       "}\n",
       ".err-msg {\n",
       "color: red;\n",
       "font-style: italic;\n",
       "font-family: monospace;\n",
       "white-space: pre;\n",
       "display: block;\n",
       "}\n",
       "#unshowable {\n",
       "color: red;\n",
       "font-weight: bold;\n",
       "}\n",
       ".err-msg.in.collapse {\n",
       "padding-top: 0.7em;\n",
       "}\n",
       ".highlight-code {\n",
       "white-space: pre;\n",
       "font-family: monospace;\n",
       "}\n",
       ".suggestion-warning { \n",
       "font-weight: bold;\n",
       "color: rgb(200, 130, 0);\n",
       "}\n",
       ".suggestion-error { \n",
       "font-weight: bold;\n",
       "color: red;\n",
       "}\n",
       ".suggestion-name {\n",
       "font-weight: bold;\n",
       "}\n",
       "</style><div class=\"suggestion-name\" style=\"clear:both;\">Eta reduce</div><div class=\"suggestion-row\" style=\"float: left;\"><div class=\"suggestion-warning\">Found:</div><div class=\"highlight-code\" id=\"haskell\">append a b = Masala a b</div></div><div class=\"suggestion-row\" style=\"float: left;\"><div class=\"suggestion-warning\">Why Not:</div><div class=\"highlight-code\" id=\"haskell\">append = Masala</div></div>"
      ],
      "text/plain": [
       "Line 7: Eta reduce\n",
       "Found:\n",
       "append a b = Masala a b\n",
       "Why not:\n",
       "append = Masala"
      ]
     },
     "metadata": {},
     "output_type": "display_data"
    },
    {
     "data": {
      "text/plain": [
       "Masala (Masala Noodles Cheese) Onions"
      ]
     },
     "metadata": {},
     "output_type": "display_data"
    }
   ],
   "source": [
    "data Maggi = Cheese | Onions | Capsicum | Garlic | Noodles | Masala Maggi Maggi deriving (Eq, Show)\n",
    "\n",
    "empty :: Maggi\n",
    "empty = Noodles\n",
    "\n",
    "append :: Maggi -> Maggi -> Maggi\n",
    "append a b = Masala a b\n",
    "\n",
    "empty `append` Cheese `append` Onions"
   ]
  },
  {
   "cell_type": "code",
   "execution_count": 4,
   "metadata": {
    "slideshow": {
     "slide_type": "fragment"
    }
   },
   "outputs": [
    {
     "data": {
      "text/plain": [
       "Masala Garlic (Masala Onions (Masala Cheese Noodles))"
      ]
     },
     "metadata": {},
     "output_type": "display_data"
    }
   ],
   "source": [
    "append :: Maggi -> Maggi -> Maggi\n",
    "append = Masala\n",
    "\n",
    "append Garlic (append Onions (append Cheese empty))"
   ]
  },
  {
   "cell_type": "code",
   "execution_count": 8,
   "metadata": {
    "slideshow": {
     "slide_type": "fragment"
    }
   },
   "outputs": [
    {
     "data": {
      "text/plain": [
       "Layer Olives (Layer Onions (Layer Cheese Pizzabread))"
      ]
     },
     "metadata": {},
     "output_type": "display_data"
    },
    {
     "data": {},
     "metadata": {},
     "output_type": "display_data"
    }
   ],
   "source": [
    "append Garlic $ append Onions $ append Cheese empty"
   ]
  },
  {
   "cell_type": "code",
   "execution_count": 9,
   "metadata": {
    "slideshow": {
     "slide_type": "skip"
    }
   },
   "outputs": [
    {
     "data": {
      "text/plain": [
       "Cons 1 (Cons 2 Blank)"
      ]
     },
     "metadata": {},
     "output_type": "display_data"
    }
   ],
   "source": [
    "-- Creating a list\n",
    "data List a = Cons a (List a) | Blank deriving (Eq, Show)\n",
    "\n",
    "empty :: List a\n",
    "empty = Blank\n",
    "\n",
    "append :: a -> List a -> List a\n",
    "append = Cons\n",
    "\n",
    "1 `append` (2 `append` Blank)"
   ]
  },
  {
   "cell_type": "code",
   "execution_count": 15,
   "metadata": {
    "slideshow": {
     "slide_type": "slide"
    }
   },
   "outputs": [
    {
     "data": {
      "text/plain": [
       "Branch (Branch (Leaf 1) (Leaf 2)) (Branch (Leaf 2) (Leaf 3))"
      ]
     },
     "metadata": {},
     "output_type": "display_data"
    }
   ],
   "source": [
    "-- Creating a tree\n",
    "data Tree a = Branch (Tree a) (Tree a) | Leaf a deriving (Eq, Show)\n",
    "\n",
    "empty :: a -> Tree a\n",
    "empty = Leaf\n",
    "\n",
    "append :: (Ord a) => Tree a -> Tree a -> Tree a\n",
    "append (Leaf newval) (Leaf val) = Branch (Leaf newval) (Leaf val)\n",
    "append (Leaf newval) (Branch left right) = Branch (Leaf newval) (Branch left right)\n",
    "append (Branch a b) (Leaf c) = Branch (Branch a b) (Leaf c)\n",
    "append a b = Branch a b\n",
    "\n",
    "append (append (Leaf 1) (Leaf 2)) (Branch (Leaf 2) (Leaf 3))"
   ]
  },
  {
   "cell_type": "code",
   "execution_count": 37,
   "metadata": {
    "scrolled": true,
    "slideshow": {
     "slide_type": "skip"
    }
   },
   "outputs": [
    {
     "data": {
      "text/plain": [
       "Branch 4 (Branch 3 Leaf Leaf) (Branch 10 Leaf Leaf)"
      ]
     },
     "metadata": {},
     "output_type": "display_data"
    }
   ],
   "source": [
    "-- Creating a binary search tree\n",
    "data Tree a = Branch a (Tree a) (Tree a) | Leaf deriving (Eq, Show)\n",
    "\n",
    "emptyTree :: Tree a\n",
    "emptyTree = Leaf\n",
    "\n",
    "sapling :: a -> Tree a\n",
    "sapling val = Branch val Leaf Leaf\n",
    "\n",
    "growTree :: (Ord a) => a -> Tree a -> Tree a\n",
    "growTree newval (Branch val left right)\n",
    "    | newval >= val = Branch val left (growTree newval right)\n",
    "    | newval  < val = Branch val (growTree newval left) right\n",
    "growTree newval Leaf = sapling newval\n",
    "    \n",
    "growTree 10 $ growTree 3 $ sapling 4"
   ]
  },
  {
   "cell_type": "markdown",
   "metadata": {
    "slideshow": {
     "slide_type": "slide"
    }
   },
   "source": [
    "## Function is data\n",
    "\n",
    "* The function decides what goes in and what comes out\n",
    "* There are no variables involved data is only transformed from function to function"
   ]
  },
  {
   "cell_type": "markdown",
   "metadata": {
    "slideshow": {
     "slide_type": "fragment"
    }
   },
   "source": [
    "### Understanding how to understand by understanding the dollar\n",
    "\n",
    "`:info $`\n",
    "\n",
    "* function defintion\n",
    "* module where it was defined\n",
    "* priority"
   ]
  },
  {
   "cell_type": "code",
   "execution_count": 6,
   "metadata": {
    "slideshow": {
     "slide_type": "slide"
    }
   },
   "outputs": [
    {
     "name": "stdout",
     "output_type": "stream",
     "text": [
      "2 burgers\n"
     ]
    }
   ],
   "source": [
    "def giveme_food(count):\n",
    "    print(f\"{count} burgers\")\n",
    "    \n",
    "giveme_food(2)"
   ]
  },
  {
   "cell_type": "code",
   "execution_count": 9,
   "metadata": {
    "slideshow": {
     "slide_type": "slide"
    }
   },
   "outputs": [
    {
     "ename": "FileNotFoundError",
     "evalue": "[Errno 2] No such file or directory: 'food.txt'",
     "output_type": "error",
     "traceback": [
      "\u001b[0;31m---------------------------------------------------------------------------\u001b[0m",
      "\u001b[0;31mFileNotFoundError\u001b[0m                         Traceback (most recent call last)",
      "\u001b[0;32m<ipython-input-9-5fc78ec80208>\u001b[0m in \u001b[0;36m<module>\u001b[0;34m\u001b[0m\n\u001b[1;32m      4\u001b[0m         \u001b[0mprint\u001b[0m\u001b[0;34m(\u001b[0m\u001b[0;34mf\"{count} {f.readline()}\"\u001b[0m\u001b[0;34m)\u001b[0m\u001b[0;34m\u001b[0m\u001b[0;34m\u001b[0m\u001b[0m\n\u001b[1;32m      5\u001b[0m \u001b[0;34m\u001b[0m\u001b[0m\n\u001b[0;32m----> 6\u001b[0;31m \u001b[0mgiveme_food\u001b[0m\u001b[0;34m(\u001b[0m\u001b[0;36m4\u001b[0m\u001b[0;34m)\u001b[0m\u001b[0;34m\u001b[0m\u001b[0;34m\u001b[0m\u001b[0m\n\u001b[0m",
      "\u001b[0;32m<ipython-input-9-5fc78ec80208>\u001b[0m in \u001b[0;36mgiveme_food\u001b[0;34m(count)\u001b[0m\n\u001b[1;32m      1\u001b[0m \u001b[0;31m# Feed me\u001b[0m\u001b[0;34m\u001b[0m\u001b[0;34m\u001b[0m\u001b[0;34m\u001b[0m\u001b[0m\n\u001b[1;32m      2\u001b[0m \u001b[0;32mdef\u001b[0m \u001b[0mgiveme_food\u001b[0m\u001b[0;34m(\u001b[0m\u001b[0mcount\u001b[0m\u001b[0;34m)\u001b[0m\u001b[0;34m:\u001b[0m  \u001b[0;31m# impure function\u001b[0m\u001b[0;34m\u001b[0m\u001b[0;34m\u001b[0m\u001b[0m\n\u001b[0;32m----> 3\u001b[0;31m     \u001b[0;32mwith\u001b[0m \u001b[0mopen\u001b[0m\u001b[0;34m(\u001b[0m\u001b[0;34m\"food.txt\"\u001b[0m\u001b[0;34m)\u001b[0m \u001b[0;32mas\u001b[0m \u001b[0mf\u001b[0m\u001b[0;34m:\u001b[0m\u001b[0;34m\u001b[0m\u001b[0;34m\u001b[0m\u001b[0m\n\u001b[0m\u001b[1;32m      4\u001b[0m         \u001b[0mprint\u001b[0m\u001b[0;34m(\u001b[0m\u001b[0;34mf\"{count} {f.readline()}\"\u001b[0m\u001b[0;34m)\u001b[0m\u001b[0;34m\u001b[0m\u001b[0;34m\u001b[0m\u001b[0m\n\u001b[1;32m      5\u001b[0m \u001b[0;34m\u001b[0m\u001b[0m\n",
      "\u001b[0;31mFileNotFoundError\u001b[0m: [Errno 2] No such file or directory: 'food.txt'"
     ]
    }
   ],
   "source": [
    "# Feed me\n",
    "def giveme_food(count):  # impure function\n",
    "    with open(\"food.txt\") as f:\n",
    "        print(f\"{count} {f.readline()}\")\n",
    "\n",
    "giveme_food(4)"
   ]
  },
  {
   "cell_type": "code",
   "execution_count": 4,
   "metadata": {
    "slideshow": {
     "slide_type": "skip"
    }
   },
   "outputs": [
    {
     "name": "stdout",
     "output_type": "stream",
     "text": [
      "5 \"Burger\"\n",
      "\n"
     ]
    }
   ],
   "source": [
    "# When I said food I meant burger\n",
    "def pure_func(impure_func):  # emulating a pure function\n",
    "    cache = {}\n",
    "    \n",
    "    def wrapped(arg):\n",
    "        if arg in cache:\n",
    "            return cache[arg]\n",
    "        else:\n",
    "            cache[arg] = impure_func(arg)\n",
    "            return cache[arg]\n",
    "        \n",
    "    return wrapped\n",
    "\n",
    "giveme_food_i_mean_burger = pure_func(giveme_food)  # pure func\n",
    "giveme_food_i_mean_burger(5)"
   ]
  },
  {
   "cell_type": "code",
   "execution_count": 1,
   "metadata": {
    "slideshow": {
     "slide_type": "slide"
    }
   },
   "outputs": [
    {
     "ename": "",
     "evalue": "",
     "output_type": "error",
     "traceback": [
      "<interactive>:2:1: error:\n    Multiple declarations of ‘x’\n    Declared at: <interactive>:1:1\n                 <interactive>:2:1\n<interactive>:3:1: error:\n    Multiple declarations of ‘x’\n    Declared at: <interactive>:1:1\n                 <interactive>:3:1"
     ]
    }
   ],
   "source": [
    "-- Immutability\n",
    "x = 4  -- Ha I made a variable\n",
    "x = 5  -- Ha I redefined it!!\n",
    "-- Did you really? It's called shadowing.\n",
    "\n",
    "x = x + 1  -- check this out"
   ]
  },
  {
   "cell_type": "code",
   "execution_count": null,
   "metadata": {
    "slideshow": {
     "slide_type": "fragment"
    }
   },
   "outputs": [],
   "source": [
    "weirdAddition x y = if x `mod` 2 == 0\n",
    "                    then x\n",
    "                    else x + y\n",
    "\n",
    "weirdAddition 2 undefined\n",
    "-- Laziness is the single most important quality of a programmer"
   ]
  },
  {
   "cell_type": "markdown",
   "metadata": {
    "slideshow": {
     "slide_type": "slide"
    }
   },
   "source": [
    "## References\n",
    "1. https://codeburst.io/a-beginner-friendly-intro-to-functional-programming-4f69aa109569\n",
    "2. http://learnyouahaskell.com/making-our-own-types-and-typeclasses"
   ]
  }
 ],
 "metadata": {
  "celltoolbar": "Slideshow",
  "kernelspec": {
   "display_name": "Haskell",
   "language": "haskell",
   "name": "haskell"
  },
  "language_info": {
   "codemirror_mode": "ihaskell",
   "file_extension": ".hs",
   "name": "haskell",
   "pygments_lexer": "Haskell",
   "version": "8.6.5"
  }
 },
 "nbformat": 4,
 "nbformat_minor": 4
}
